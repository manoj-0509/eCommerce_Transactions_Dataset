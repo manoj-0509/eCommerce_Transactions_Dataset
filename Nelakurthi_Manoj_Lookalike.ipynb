{
 "cells": [
  {
   "cell_type": "code",
   "execution_count": 1,
   "metadata": {},
   "outputs": [],
   "source": [
    "import pandas as pd\n",
    "import csv\n",
    "import numpy as np\n",
    "import matplotlib.pyplot as plt\n",
    "import seaborn as sns\n",
    "from sklearn.metrics.pairwise import cosine_similarity"
   ]
  },
  {
   "cell_type": "code",
   "execution_count": 2,
   "metadata": {},
   "outputs": [],
   "source": [
    "# Step 1: Load the datasets\n",
    "customers = pd.read_csv(\"C:/Users/NELAKURTHI MANOJ/Downloads/Customers.csv\")\n",
    "products = pd.read_csv(\"C:/Users/NELAKURTHI MANOJ/Downloads/Products.csv\")\n",
    "transactions = pd.read_csv(\"C:/Users/NELAKURTHI MANOJ/Downloads/Transactions.csv\")"
   ]
  },
  {
   "cell_type": "code",
   "execution_count": 3,
   "metadata": {},
   "outputs": [],
   "source": [
    "# Renaming columns\n",
    "products.rename(columns={'Price': 'Products_Price'}, inplace=True)\n",
    "transactions.rename(columns={'Price': 'Transactions_Price'}, inplace=True)"
   ]
  },
  {
   "cell_type": "code",
   "execution_count": 4,
   "metadata": {},
   "outputs": [],
   "source": [
    "# Clean and preprocess data\n",
    "customers['SignupDate'] = pd.to_datetime(customers['SignupDate'])\n",
    "transactions['TransactionDate'] = pd.to_datetime(transactions['TransactionDate'])\n",
    "\n",
    "# Merge data for analysis\n",
    "merged_data = pd.merge(transactions, customers, on='CustomerID')\n",
    "merged_data = pd.merge(merged_data, products, on='ProductID')"
   ]
  },
  {
   "cell_type": "code",
   "execution_count": 5,
   "metadata": {},
   "outputs": [],
   "source": [
    "# Aggregate features for similarity calculation\n",
    "customer_features = merged_data.groupby('CustomerID').agg({\n",
    "    'TotalValue': 'sum',\n",
    "    'Quantity': 'sum',\n",
    "    'Transactions_Price': 'mean'\n",
    "}).reset_index()"
   ]
  },
  {
   "cell_type": "code",
   "execution_count": 6,
   "metadata": {},
   "outputs": [],
   "source": [
    "# Normalize features\n",
    "from sklearn.preprocessing import StandardScaler\n",
    "scaler = StandardScaler()\n",
    "scaled_features = scaler.fit_transform(customer_features.iloc[:, 1:])"
   ]
  },
  {
   "cell_type": "code",
   "execution_count": 7,
   "metadata": {},
   "outputs": [],
   "source": [
    "# Calculate similarity\n",
    "similarity_matrix = cosine_similarity(scaled_features)"
   ]
  },
  {
   "cell_type": "code",
   "execution_count": 8,
   "metadata": {},
   "outputs": [],
   "source": [
    "# Recommend top 3 similar customers\n",
    "customer_ids = customer_features['CustomerID'].values\n",
    "recommendations = {}\n",
    "\n",
    "for i, customer_id in enumerate(customer_ids):\n",
    "    similar_indices = np.argsort(-similarity_matrix[i])[:4]  # Top 4 (including self)\n",
    "    similar_customers = [(customer_ids[j], similarity_matrix[i][j]) for j in similar_indices if j != i]\n",
    "    recommendations[customer_id] = similar_customers[:3]"
   ]
  },
  {
   "cell_type": "code",
   "execution_count": 9,
   "metadata": {},
   "outputs": [],
   "source": [
    "# Save recommendations to CSV\n",
    "# Filter recommendations to include only CustomerID C0001 - C0020\n",
    "filtered_recommendations = {k: v for k, v in recommendations.items() if k in [f'C{str(i).zfill(4)}' for i in range(1, 21)]}\n",
    "\n",
    "with open('Lookalike.csv', 'w') as f:\n",
    "    writer = csv.writer(f)\n",
    "    writer.writerow(['CustomerID', 'Recommendations'])\n",
    "    for customer_id, recs in filtered_recommendations.items():\n",
    "        writer.writerow([customer_id, recs])"
   ]
  }
 ],
 "metadata": {
  "kernelspec": {
   "display_name": "base",
   "language": "python",
   "name": "python3"
  },
  "language_info": {
   "codemirror_mode": {
    "name": "ipython",
    "version": 3
   },
   "file_extension": ".py",
   "mimetype": "text/x-python",
   "name": "python",
   "nbconvert_exporter": "python",
   "pygments_lexer": "ipython3",
   "version": "3.11.5"
  }
 },
 "nbformat": 4,
 "nbformat_minor": 2
}
